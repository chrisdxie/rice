{
 "cells": [
  {
   "cell_type": "markdown",
   "metadata": {},
   "source": [
    "# Imports"
   ]
  },
  {
   "cell_type": "code",
   "execution_count": null,
   "metadata": {},
   "outputs": [],
   "source": [
    "import os\n",
    "os.environ['CUDA_VISIBLE_DEVICES'] = \"0\"  # Limit PyTorch to seeing 1 GPU only.\n",
    "import yaml\n",
    "\n",
    "import src.data_loader as data_loader\n",
    "import src.graph_construction as gc\n",
    "import src.graph_networks as gn\n",
    "import src.merge_split_networks as msn\n",
    "import src.delete_network as delnet\n",
    "import src.network_config as nc\n",
    "import src.train as train"
   ]
  },
  {
   "cell_type": "markdown",
   "metadata": {},
   "source": [
    "# Tabletop Object Dataset"
   ]
  },
  {
   "cell_type": "code",
   "execution_count": null,
   "metadata": {},
   "outputs": [],
   "source": [
    "with open('configs/TOD.yaml', 'r') as f:\n",
    "    TOD_data_loading_config = yaml.load(f)\n",
    "dl = data_loader.get_TOD_train_dataloader(\n",
    "    TOD_data_loading_config['TOD_filepath'],\n",
    "    TOD_data_loading_config,\n",
    "    batch_size=1,\n",
    "    num_workers=8,\n",
    "    shuffle=True\n",
    ")"
   ]
  },
  {
   "cell_type": "markdown",
   "metadata": {},
   "source": [
    "# Joint Training of SplitNet + DeleteNet"
   ]
  },
  {
   "cell_type": "code",
   "execution_count": null,
   "metadata": {},
   "outputs": [],
   "source": [
    "# Load configs\n",
    "splitnet_config = nc.get_splitnet_config('configs/splitnet.yaml')\n",
    "splitnet_train_config = nc.get_splitnet_train_config('configs/splitnet_joint_training.yaml')\n",
    "\n",
    "deletenet_config = nc.get_deletenet_config('configs/deletenet.yaml')\n",
    "deletenet_train_config = nc.get_deletenet_train_config('configs/deletenet_joint_training.yaml')"
   ]
  },
  {
   "cell_type": "code",
   "execution_count": null,
   "metadata": {},
   "outputs": [],
   "source": [
    "# Load ResNet50+FPN\n",
    "rn50_fpn = gc.get_resnet50_fpn_model(\n",
    "    pretrained=True,\n",
    "    trainable_layer_names=splitnet_train_config['trainable_layer_names'],\n",
    ")\n",
    "\n",
    "# Initialize SplitNet model and trainer\n",
    "sn_wrapper = msn.SplitNetWrapper(splitnet_config)\n",
    "sn_trainer = train.SplitNetTrainer(sn_wrapper, rn50_fpn, splitnet_train_config)\n",
    "\n",
    "# Initialize DeleteNet model and trainer\n",
    "dn_wrapper = delnet.DeleteNetWrapper(deletenet_config)\n",
    "dn_trainer = train.DeleteNetTrainer(dn_wrapper, rn50_fpn, deletenet_train_config)"
   ]
  },
  {
   "cell_type": "code",
   "execution_count": null,
   "metadata": {},
   "outputs": [],
   "source": [
    "# Optionally, specify a loading config to resume training\n",
    "load_config = {\n",
    "    'opt_filename' : '',  # path to trainer checkpoint\n",
    "    'splitnet_wrapper_filename' : '',  # path to SplitNet checkpoint\n",
    "    'deletenet_wrapper_filename' : '',  # path to DeleteNet checkpoint\n",
    "    'rn50_fpn_filename' : '',  # path to ResNet50+FPN checkpoint\n",
    "}\n",
    "\n",
    "# Load trainer\n",
    "trainer = train.JointSplitNetDeleteNetTrainer(\n",
    "    sn_wrapper,\n",
    "    sn_trainer,\n",
    "    dn_wrapper,\n",
    "    dn_trainer,\n",
    "#     load_config,  # uncomment if resuming training\n",
    ")"
   ]
  },
  {
   "cell_type": "code",
   "execution_count": null,
   "metadata": {},
   "outputs": [],
   "source": [
    "num_epochs = 10\n",
    "trainer.train(num_epochs, dl)\n",
    "trainer.save()"
   ]
  },
  {
   "cell_type": "markdown",
   "metadata": {},
   "source": [
    "# SGS-Net"
   ]
  },
  {
   "cell_type": "code",
   "execution_count": null,
   "metadata": {},
   "outputs": [],
   "source": [
    "# Load configs\n",
    "sgsnet_config = nc.get_sgsnet_config('configs/sgsnet.yaml')\n",
    "sgsnet_training_config = nc.get_sgsnet_train_config('configs/sgsnet_training.yaml')"
   ]
  },
  {
   "cell_type": "code",
   "execution_count": null,
   "metadata": {},
   "outputs": [],
   "source": [
    "# Load models\n",
    "rn50_fpn = gc.get_resnet50_fpn_model(pretrained=True)\n",
    "sgsnet_wrapper = gn.SGSNetWrapper(sgsnet_config)\n",
    "sgsnet_trainer = train.SGSNetTrainer(sgsnet_wrapper, rn50_fpn, sgsnet_training_config)"
   ]
  },
  {
   "cell_type": "code",
   "execution_count": null,
   "metadata": {
    "scrolled": true
   },
   "outputs": [],
   "source": [
    "num_epochs = 3\n",
    "sgsnet_trainer.train(num_epochs, dl)\n",
    "sgsnet_trainer.save()"
   ]
  },
  {
   "cell_type": "code",
   "execution_count": null,
   "metadata": {},
   "outputs": [],
   "source": []
  }
 ],
 "metadata": {
  "kernelspec": {
   "display_name": "Python [conda env:ssc]",
   "language": "python",
   "name": "conda-env-ssc-py"
  },
  "language_info": {
   "codemirror_mode": {
    "name": "ipython",
    "version": 3
   },
   "file_extension": ".py",
   "mimetype": "text/x-python",
   "name": "python",
   "nbconvert_exporter": "python",
   "pygments_lexer": "ipython3",
   "version": "3.7.3"
  },
  "toc": {
   "base_numbering": 1,
   "nav_menu": {},
   "number_sections": true,
   "sideBar": true,
   "skip_h1_title": false,
   "title_cell": "Table of Contents",
   "title_sidebar": "Contents",
   "toc_cell": false,
   "toc_position": {
    "height": "calc(100% - 180px)",
    "left": "10px",
    "top": "150px",
    "width": "316px"
   },
   "toc_section_display": true,
   "toc_window_display": true
  }
 },
 "nbformat": 4,
 "nbformat_minor": 2
}
