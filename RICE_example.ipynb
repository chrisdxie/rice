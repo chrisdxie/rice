{
 "cells": [
  {
   "cell_type": "markdown",
   "metadata": {},
   "source": [
    "# Imports"
   ]
  },
  {
   "cell_type": "code",
   "execution_count": null,
   "metadata": {},
   "outputs": [],
   "source": [
    "import os\n",
    "os.environ['CUDA_VISIBLE_DEVICES'] = \"0\"  # Limit PyTorch to seeing 1 GPU only.\n",
    "import glob\n",
    "import yaml\n",
    "\n",
    "from time import time\n",
    "from collections import OrderedDict\n",
    "\n",
    "import torch\n",
    "import numpy as np\n",
    "\n",
    "import src.data_augmentation as data_augmentation\n",
    "import src.graph_construction as gc\n",
    "import src.graph_networks as gn\n",
    "import src.merge_split_networks as msn\n",
    "import src.delete_network as delnet\n",
    "import src.sample_tree_cem as stc\n",
    "import src.network_config as nc\n",
    "import src.losses as losses\n",
    "import src.visualize_graph as visualize_graph\n",
    "import src.constants as constants\n",
    "import src.util.utilities as util_"
   ]
  },
  {
   "cell_type": "markdown",
   "metadata": {},
   "source": [
    "# Choose image"
   ]
  },
  {
   "cell_type": "code",
   "execution_count": null,
   "metadata": {},
   "outputs": [],
   "source": [
    "# Load images\n",
    "example_images_dir = os.path.abspath('.') + '/example_images/'\n",
    "OSD_image_files = sorted(glob.glob(example_images_dir + '/OSD_*.npy'))\n",
    "OCID_image_files = sorted(glob.glob(example_images_dir + '/OCID_*.npy'))\n",
    "N = len(OSD_image_files) + len(OCID_image_files)\n",
    "\n",
    "orig_rgb_imgs = np.zeros((N, 480, 640, 3), dtype=np.uint8)\n",
    "rgb_imgs = np.zeros((N, 480, 640, 3), dtype=np.float32)\n",
    "xyz_imgs = np.zeros((N, 480, 640, 3), dtype=np.float32)\n",
    "label_imgs = np.zeros((N, 480, 640), dtype=np.uint8)\n",
    "\n",
    "for i, img_file in enumerate(OSD_image_files + OCID_image_files):\n",
    "    d = np.load(img_file, allow_pickle=True, encoding='bytes').item()\n",
    "    \n",
    "    # RGB\n",
    "    orig_rgb_imgs[i] = d['rgb']\n",
    "    rgb_imgs[i] = data_augmentation.standardize_image(orig_rgb_imgs[i])\n",
    "\n",
    "    # XYZ\n",
    "    xyz_imgs[i] = d['xyz']\n",
    "\n",
    "    # Label\n",
    "    label_imgs[i] = d['label']\n",
    "    \n",
    "# Choose image\n",
    "img_index = 0  # TODO: select an index from [0, 1, 2, 3, 4]\n",
    "rgb_img = data_augmentation.array_to_tensor(rgb_imgs[img_index])\n",
    "xyz_img = data_augmentation.array_to_tensor(xyz_imgs[img_index])\n",
    "label_img = data_augmentation.array_to_tensor(label_imgs[img_index])\n",
    "\n",
    "# Display\n",
    "util_.gallery([util_.visualize_segmentation(orig_rgb_imgs[i], label_imgs[i])\n",
    "               for i in range(N)],\n",
    "              width='300px')"
   ]
  },
  {
   "cell_type": "markdown",
   "metadata": {},
   "source": [
    "# Load ResNet50+FPN\n",
    "\n",
    "Pre-trained on COCO2017."
   ]
  },
  {
   "cell_type": "code",
   "execution_count": null,
   "metadata": {},
   "outputs": [],
   "source": [
    "rn50_fpn = gc.get_resnet50_fpn_model(pretrained=True)\n",
    "with torch.no_grad():\n",
    "    rgb_img_features = gc.extract_rgb_img_features(rn50_fpn, rgb_img)"
   ]
  },
  {
   "cell_type": "markdown",
   "metadata": {},
   "source": [
    "# Use UOIS-Net-3D to get masks.\n",
    "\n",
    "Obtain initial instance segmentation masks. You can find the models for UOIS-Net-3D [here](https://github.com/chrisdxie/uois)."
   ]
  },
  {
   "cell_type": "code",
   "execution_count": null,
   "metadata": {},
   "outputs": [],
   "source": [
    "# Load UOIS-Net-3D\n",
    "uoisnet3d_cfg_filename = 'configs/uoisnet3d.yaml'\n",
    "dsn_filename = ''  # TODO: add path to saved model for UOIS-Net-3D\n",
    "rrn_filename = ''  # TODO: add path to saved model for UOIS-Net-3D\n",
    "uois_net = util_.load_uoisnet_3d(\n",
    "    uoisnet3d_cfg_filename,\n",
    "    dsn_filename,\n",
    "    rrn_filename,\n",
    ")\n",
    "\n",
    "# Put data into a batch\n",
    "batch = {\n",
    "    'rgb' : rgb_img.unsqueeze(0),\n",
    "    'xyz' : xyz_img.unsqueeze(0),\n",
    "}\n",
    "N = batch['rgb'].shape[0]\n",
    "print(\"Number of images: {0}\".format(N))\n",
    "\n",
    "### Compute segmentation masks ###\n",
    "st_time = time()\n",
    "fg_masks, center_offsets, initial_masks, seg_masks = uois_net.run_on_batch(batch)\n",
    "total_time = time() - st_time\n",
    "print('Total time taken for Segmentation: {0} seconds'.format(round(total_time, 3)))\n",
    "print('FPS: {0}'.format(round(N / total_time,3)))\n",
    "\n",
    "seg_masks = seg_masks[0]  # [H, W]\n",
    "fg_mask = fg_masks[0] == constants.OBJECTS_LABEL  # [H, W]\n",
    "\n",
    "# Display results\n",
    "util_.gallery({'Instance Masks' : util_.get_color_mask(seg_masks.cpu().numpy()),\n",
    "               'Foreground Mask' : util_.get_color_mask(fg_mask.cpu().numpy())\n",
    "              }, width='300px')"
   ]
  },
  {
   "cell_type": "markdown",
   "metadata": {},
   "source": [
    "# Construct and visualize segmentation graph"
   ]
  },
  {
   "cell_type": "code",
   "execution_count": null,
   "metadata": {},
   "outputs": [],
   "source": [
    "# Construct segmentation graph\n",
    "segmentation_graph = gc.construct_segmentation_graph(\n",
    "    rgb_img_features,\n",
    "    xyz_img,\n",
    "    seg_masks,\n",
    ")\n",
    "\n",
    "# Visualization\n",
    "viz_graph = visualize_graph.visualize_graph(orig_rgb_imgs[img_index],\n",
    "                                            segmentation_graph,\n",
    "                                            mode='seg_graph_on_rgb')\n",
    "image_dict = OrderedDict({\n",
    "    'Original RGB' : orig_rgb_imgs[img_index],\n",
    "    'Predicted Mask' : util_.get_color_mask(util_.copy_to_numpy(seg_masks)),\n",
    "    'Graph' : viz_graph,\n",
    "    'GT Mask' : util_.get_color_mask(util_.copy_to_numpy(label_img)),\n",
    "})\n",
    "print(\"Unique labels:\", torch.unique(seg_masks))\n",
    "\n",
    "# Compute GT score of graph\n",
    "score = losses.compute_graph_score(segmentation_graph.orig_masks[1:],  # Drop BG mask\n",
    "                                   label_img)\n",
    "print(f\"Predicted mask score: {score:.05f}\")\n",
    "\n",
    "# Display\n",
    "util_.gallery(image_dict, width='230px')"
   ]
  },
  {
   "cell_type": "markdown",
   "metadata": {},
   "source": [
    "# Load Networks\n",
    "\n",
    "You can find the models for RICE [here](https://github.com/chrisdxie/rice)."
   ]
  },
  {
   "cell_type": "code",
   "execution_count": null,
   "metadata": {},
   "outputs": [],
   "source": [
    "# SplitNet\n",
    "splitnet_config = nc.get_splitnet_config('configs/splitnet.yaml')\n",
    "sn_wrapper = msn.SplitNetWrapper(splitnet_config)\n",
    "sn_filename = ''  # TODO: add path to saved model\n",
    "sn_wrapper.load(sn_filename)\n",
    "\n",
    "# MergeNet (uses SplitNet under the hood)\n",
    "merge_net_config = splitnet_config.copy()\n",
    "merge_net_config['splitnet_model'] = sn_wrapper.model\n",
    "mn_wrapper = msn.MergeBySplitWrapper(merge_net_config)\n",
    "\n",
    "# DeleteNet\n",
    "deletenet_config = nc.get_deletenet_config('configs/deletenet.yaml')\n",
    "dn_wrapper = delnet.DeleteNetWrapper(deletenet_config)\n",
    "delnet_filename = ''  # TODO: add path to saved model\n",
    "dn_wrapper.load(delnet_filename)\n",
    "\n",
    "# SGS-Net\n",
    "sgsnet_config = nc.get_sgsnet_config('configs/sgsnet.yaml')\n",
    "sgsnet_wrapper = gn.SGSNetWrapper(sgsnet_config)\n",
    "sgsnet_filename = ''  # TODO: add path to saved model\n",
    "sgsnet_wrapper.load(sgsnet_filename)"
   ]
  },
  {
   "cell_type": "markdown",
   "metadata": {},
   "source": [
    "# Run SampleTreeCEM\n",
    "\n",
    "Note: run these cells a few times to obtain different outputs since RICE is stochastic."
   ]
  },
  {
   "cell_type": "code",
   "execution_count": null,
   "metadata": {},
   "outputs": [],
   "source": [
    "# Load RICE\n",
    "with open('configs/rice.yaml', 'r') as f:\n",
    "    rice_config = yaml.load(f)\n",
    "sample_operator_networks = {\n",
    "    'mergenet_wrapper' : mn_wrapper,\n",
    "    'splitnet_wrapper' : sn_wrapper,\n",
    "    'deletenet_wrapper' : dn_wrapper,\n",
    "}\n",
    "rice = stc.SampleTreeCEMWrapper(\n",
    "    rn50_fpn,\n",
    "    sample_operator_networks,\n",
    "    sgsnet_wrapper,\n",
    "    rice_config,\n",
    ")"
   ]
  },
  {
   "cell_type": "code",
   "execution_count": null,
   "metadata": {},
   "outputs": [],
   "source": [
    "# Run RICE!\n",
    "batch = {\n",
    "    'rgb' : rgb_img.unsqueeze(0),\n",
    "    'xyz' : xyz_img.unsqueeze(0),\n",
    "    'seg_masks' : seg_masks.unsqueeze(0),\n",
    "    'fg_mask' : fg_mask.unsqueeze(0),\n",
    "}\n",
    "sample_tree = rice.run_on_batch(batch, verbose=True)  # this is where the magic happens!\n",
    "\n",
    "# Get GT scores\n",
    "def _get_gt_score(graph):\n",
    "    return losses.compute_graph_score(graph.orig_masks[1:], label_img)  # Drop BG mask\n",
    "id_to_gt_score = {node.id : node.graph for node in sample_tree.all_nodes()}\n",
    "id_to_gt_score = util_.parallel_map_dict(_get_gt_score, id_to_gt_score)\n",
    "    \n",
    "import gc as garbage_collection\n",
    "garbage_collection.collect()\n",
    "torch.cuda.empty_cache()"
   ]
  },
  {
   "cell_type": "code",
   "execution_count": null,
   "metadata": {},
   "outputs": [],
   "source": [
    "# Plot sample tree\n",
    "for depth in range(sample_tree.max_depth() + 1):\n",
    "\n",
    "    nodes_at_depth = [node for node in sample_tree.all_nodes()\n",
    "                      if node.depth() == depth]\n",
    "    image_dict = OrderedDict()\n",
    "    \n",
    "    for node in nodes_at_depth:\n",
    "        title = (node.id + \n",
    "                 f' GT: {id_to_gt_score[node.id].item():0.3f}.' + \n",
    "                 f' Pred: {node.graph.sgs_net_score.item():0.3f}')\n",
    "        image_dict[title] = visualize_graph.visualize_graph(rgb_img,\n",
    "                                                            node.graph,\n",
    "                                                            mode='seg_graph_on_rgb')\n",
    "            \n",
    "    util_.gallery(image_dict, width='225px')"
   ]
  },
  {
   "cell_type": "code",
   "execution_count": null,
   "metadata": {},
   "outputs": [],
   "source": [
    "# Plot RICE outputs (best graph and uncertainty estimates)\n",
    "scores = np.array([g.sgs_net_score for g in sample_tree.all_graphs()])\n",
    "best_node = sample_tree.all_nodes()[np.argmax(scores)]\n",
    "\n",
    "# Print some stuff\n",
    "print(f\"Best graph: {best_node.id}, \"\n",
    "      f\"GT score: {id_to_gt_score[best_node.id]:.05f}, \"\n",
    "      f\"Best GT score: {max(id_to_gt_score.values()):.05f}, \",\n",
    "      f\"score: {best_node.graph.sgs_net_score:.05f}\")\n",
    "\n",
    "# Generate some nice images\n",
    "base_prediction_img = visualize_graph.visualize_graph(orig_rgb_imgs[img_index],\n",
    "                                                      segmentation_graph,\n",
    "                                                      mode='seg_graph_on_rgb')\n",
    "prediction_img = visualize_graph.visualize_graph(orig_rgb_imgs[img_index],\n",
    "                                                 best_node.graph,\n",
    "                                                 mode='seg_graph_on_rgb')\n",
    "contour_mean, contour_std = rice.contour_uncertainties(sample_tree)\n",
    "contour_img = util_.visualize_contour_img(contour_mean,\n",
    "                                          contour_std,\n",
    "                                          orig_rgb_imgs[img_index])\n",
    "\n",
    "# Display\n",
    "to_plot = {\n",
    "    f'RGB' : orig_rgb_imgs[img_index],\n",
    "    'Original graph': base_prediction_img,\n",
    "    'Best graph': prediction_img,\n",
    "    'Contour Mean/Stddev' : contour_img,\n",
    "}\n",
    "util_.gallery(to_plot, width='300px')"
   ]
  },
  {
   "cell_type": "code",
   "execution_count": null,
   "metadata": {},
   "outputs": [],
   "source": []
  }
 ],
 "metadata": {
  "kernelspec": {
   "display_name": "Python 3",
   "language": "python",
   "name": "python3"
  },
  "language_info": {
   "codemirror_mode": {
    "name": "ipython",
    "version": 3
   },
   "file_extension": ".py",
   "mimetype": "text/x-python",
   "name": "python",
   "nbconvert_exporter": "python",
   "pygments_lexer": "ipython3",
   "version": "3.7.11"
  },
  "toc": {
   "base_numbering": 1,
   "nav_menu": {},
   "number_sections": true,
   "sideBar": true,
   "skip_h1_title": false,
   "title_cell": "Table of Contents",
   "title_sidebar": "Contents",
   "toc_cell": false,
   "toc_position": {
    "height": "calc(100% - 180px)",
    "left": "10px",
    "top": "150px",
    "width": "259px"
   },
   "toc_section_display": true,
   "toc_window_display": true
  }
 },
 "nbformat": 4,
 "nbformat_minor": 2
}
